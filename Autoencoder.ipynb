{
  "nbformat": 4,
  "nbformat_minor": 0,
  "metadata": {
    "colab": {
      "provenance": []
    },
    "kernelspec": {
      "name": "python3",
      "display_name": "Python 3"
    },
    "language_info": {
      "name": "python"
    }
  },
  "cells": [
    {
      "cell_type": "code",
      "execution_count": null,
      "metadata": {
        "id": "9YxOAG-Ew4i2"
      },
      "outputs": [],
      "source": [
        "from keras.models import Model\n",
        "from keras.layers import Dense,Input\n",
        "from keras.datasets import mnist\n",
        "import numpy as np\n",
        "import matplotlib.pyplot as plt"
      ]
    },
    {
      "cell_type": "code",
      "source": [
        "encod_dim=64\n",
        "input_img=Input(shape=(784,))\n",
        "encoded=Dense(encod_dim,activation='relu')(input_img)"
      ],
      "metadata": {
        "id": "msyNFFxOxeXs"
      },
      "execution_count": null,
      "outputs": []
    },
    {
      "cell_type": "code",
      "source": [
        "decoded=Dense(784,activation='sigmoid')(encoded)\n",
        "autoencoder=Model(input_img,decoded)"
      ],
      "metadata": {
        "id": "6mEJDuZ0xeUV"
      },
      "execution_count": null,
      "outputs": []
    },
    {
      "cell_type": "code",
      "source": [
        "encoder = Model(input_img, encoded)\n",
        "encoded_input =Input(shape=(encod_dim,))\n",
        "decoder_layer = autoencoder.layers[-1]\n"
      ],
      "metadata": {
        "id": "fqLFRMHTyiR6"
      },
      "execution_count": null,
      "outputs": []
    },
    {
      "cell_type": "code",
      "source": [
        "encoder.summary()"
      ],
      "metadata": {
        "colab": {
          "base_uri": "https://localhost:8080/"
        },
        "id": "KgLqGaG6y3Un",
        "outputId": "3ba9f836-1a5c-4dd4-e65f-4078fe1e61f1"
      },
      "execution_count": null,
      "outputs": [
        {
          "output_type": "stream",
          "name": "stdout",
          "text": [
            "Model: \"model_1\"\n",
            "_________________________________________________________________\n",
            " Layer (type)                Output Shape              Param #   \n",
            "=================================================================\n",
            " input_1 (InputLayer)        [(None, 784)]             0         \n",
            "                                                                 \n",
            " dense (Dense)               (None, 64)                50240     \n",
            "                                                                 \n",
            "=================================================================\n",
            "Total params: 50240 (196.25 KB)\n",
            "Trainable params: 50240 (196.25 KB)\n",
            "Non-trainable params: 0 (0.00 Byte)\n",
            "_________________________________________________________________\n"
          ]
        }
      ]
    },
    {
      "cell_type": "code",
      "source": [
        "decoder =Model(encoded_input, decoder_layer(encoded_input))"
      ],
      "metadata": {
        "id": "AYCArlTkyyaQ"
      },
      "execution_count": null,
      "outputs": []
    },
    {
      "cell_type": "code",
      "source": [
        "decoder.summary()"
      ],
      "metadata": {
        "colab": {
          "base_uri": "https://localhost:8080/"
        },
        "id": "QOjKb-5ky7JM",
        "outputId": "8f28fb16-9a6a-4070-b53d-187ffa61440c"
      },
      "execution_count": null,
      "outputs": [
        {
          "output_type": "stream",
          "name": "stdout",
          "text": [
            "Model: \"model_2\"\n",
            "_________________________________________________________________\n",
            " Layer (type)                Output Shape              Param #   \n",
            "=================================================================\n",
            " input_2 (InputLayer)        [(None, 64)]              0         \n",
            "                                                                 \n",
            " dense_1 (Dense)             (None, 784)               50960     \n",
            "                                                                 \n",
            "=================================================================\n",
            "Total params: 50960 (199.06 KB)\n",
            "Trainable params: 50960 (199.06 KB)\n",
            "Non-trainable params: 0 (0.00 Byte)\n",
            "_________________________________________________________________\n"
          ]
        }
      ]
    },
    {
      "cell_type": "code",
      "source": [
        "autoencoder.compile(optimizer='adam', loss='binary_crossentropy')"
      ],
      "metadata": {
        "id": "VDX9S-mly922"
      },
      "execution_count": null,
      "outputs": []
    },
    {
      "cell_type": "code",
      "source": [
        "(x_train, _), (x_test, _) = mnist.load_data()"
      ],
      "metadata": {
        "colab": {
          "base_uri": "https://localhost:8080/"
        },
        "id": "1KPfMbDszBbw",
        "outputId": "5afe7552-c2c2-4c05-8e0c-e94d7277fa77"
      },
      "execution_count": null,
      "outputs": [
        {
          "output_type": "stream",
          "name": "stdout",
          "text": [
            "Downloading data from https://storage.googleapis.com/tensorflow/tf-keras-datasets/mnist.npz\n",
            "11490434/11490434 [==============================] - 0s 0us/step\n"
          ]
        }
      ]
    },
    {
      "cell_type": "code",
      "source": [
        "x_train = x_train.astype('float32') / 255.\n",
        "x_test = x_test.astype('float32') / 255.\n",
        "x_train = x_train.reshape((len(x_train), np.prod(x_train.shape[1:])))\n",
        "x_test = x_test.reshape((len(x_test), np.prod(x_test.shape[1:])))\n",
        "print(x_train.shape)\n",
        "print(x_test.shape)"
      ],
      "metadata": {
        "colab": {
          "base_uri": "https://localhost:8080/"
        },
        "id": "92i7mIGtzBYS",
        "outputId": "526ec6d6-0d0a-4ded-8545-063671c0e4a3"
      },
      "execution_count": null,
      "outputs": [
        {
          "output_type": "stream",
          "name": "stdout",
          "text": [
            "(60000, 784)\n",
            "(10000, 784)\n"
          ]
        }
      ]
    },
    {
      "cell_type": "code",
      "source": [
        "autoencoder.fit(x_train, x_train,\n",
        "                epochs=50,\n",
        "                batch_size=256,\n",
        "                shuffle=True,\n",
        "                validation_data=(x_test, x_test))"
      ],
      "metadata": {
        "colab": {
          "base_uri": "https://localhost:8080/"
        },
        "id": "wG9sKlM9zLw0",
        "outputId": "0d9e341a-deb6-4a4b-85fe-291b5832a403"
      },
      "execution_count": null,
      "outputs": [
        {
          "output_type": "stream",
          "name": "stdout",
          "text": [
            "Epoch 1/50\n",
            "235/235 [==============================] - 5s 16ms/step - loss: 0.2427 - val_loss: 0.1620\n",
            "Epoch 2/50\n",
            "235/235 [==============================] - 4s 15ms/step - loss: 0.1434 - val_loss: 0.1264\n",
            "Epoch 3/50\n",
            "235/235 [==============================] - 7s 30ms/step - loss: 0.1179 - val_loss: 0.1083\n",
            "Epoch 4/50\n",
            "235/235 [==============================] - 3s 12ms/step - loss: 0.1039 - val_loss: 0.0977\n",
            "Epoch 5/50\n",
            "235/235 [==============================] - 3s 11ms/step - loss: 0.0950 - val_loss: 0.0903\n",
            "Epoch 6/50\n",
            "235/235 [==============================] - 3s 12ms/step - loss: 0.0887 - val_loss: 0.0851\n",
            "Epoch 7/50\n",
            "235/235 [==============================] - 4s 15ms/step - loss: 0.0842 - val_loss: 0.0816\n",
            "Epoch 8/50\n",
            "235/235 [==============================] - 4s 17ms/step - loss: 0.0811 - val_loss: 0.0791\n",
            "Epoch 9/50\n",
            "235/235 [==============================] - 4s 16ms/step - loss: 0.0790 - val_loss: 0.0775\n",
            "Epoch 10/50\n",
            "235/235 [==============================] - 3s 11ms/step - loss: 0.0776 - val_loss: 0.0763\n",
            "Epoch 11/50\n",
            "235/235 [==============================] - 4s 16ms/step - loss: 0.0766 - val_loss: 0.0756\n",
            "Epoch 12/50\n",
            "235/235 [==============================] - 3s 12ms/step - loss: 0.0759 - val_loss: 0.0750\n",
            "Epoch 13/50\n",
            "235/235 [==============================] - 3s 11ms/step - loss: 0.0754 - val_loss: 0.0744\n",
            "Epoch 14/50\n",
            "235/235 [==============================] - 3s 11ms/step - loss: 0.0750 - val_loss: 0.0741\n",
            "Epoch 15/50\n",
            "235/235 [==============================] - 3s 14ms/step - loss: 0.0747 - val_loss: 0.0739\n",
            "Epoch 16/50\n",
            "235/235 [==============================] - 3s 12ms/step - loss: 0.0744 - val_loss: 0.0737\n",
            "Epoch 17/50\n",
            "235/235 [==============================] - 3s 11ms/step - loss: 0.0742 - val_loss: 0.0735\n",
            "Epoch 18/50\n",
            "235/235 [==============================] - 3s 11ms/step - loss: 0.0740 - val_loss: 0.0734\n",
            "Epoch 19/50\n",
            "235/235 [==============================] - 3s 12ms/step - loss: 0.0739 - val_loss: 0.0732\n",
            "Epoch 20/50\n",
            "235/235 [==============================] - 4s 15ms/step - loss: 0.0738 - val_loss: 0.0732\n",
            "Epoch 21/50\n",
            "235/235 [==============================] - 3s 12ms/step - loss: 0.0737 - val_loss: 0.0730\n",
            "Epoch 22/50\n",
            "235/235 [==============================] - 3s 11ms/step - loss: 0.0736 - val_loss: 0.0730\n",
            "Epoch 23/50\n",
            "235/235 [==============================] - 3s 11ms/step - loss: 0.0735 - val_loss: 0.0729\n",
            "Epoch 24/50\n",
            "235/235 [==============================] - 4s 16ms/step - loss: 0.0734 - val_loss: 0.0728\n",
            "Epoch 25/50\n",
            "235/235 [==============================] - 3s 11ms/step - loss: 0.0733 - val_loss: 0.0728\n",
            "Epoch 26/50\n",
            "235/235 [==============================] - 3s 11ms/step - loss: 0.0733 - val_loss: 0.0727\n",
            "Epoch 27/50\n",
            "235/235 [==============================] - 3s 11ms/step - loss: 0.0732 - val_loss: 0.0727\n",
            "Epoch 28/50\n",
            "235/235 [==============================] - 4s 15ms/step - loss: 0.0732 - val_loss: 0.0726\n",
            "Epoch 29/50\n",
            "235/235 [==============================] - 3s 12ms/step - loss: 0.0731 - val_loss: 0.0726\n",
            "Epoch 30/50\n",
            "235/235 [==============================] - 3s 11ms/step - loss: 0.0731 - val_loss: 0.0726\n",
            "Epoch 31/50\n",
            "235/235 [==============================] - 3s 11ms/step - loss: 0.0731 - val_loss: 0.0726\n",
            "Epoch 32/50\n",
            "235/235 [==============================] - 3s 11ms/step - loss: 0.0730 - val_loss: 0.0725\n",
            "Epoch 33/50\n",
            "235/235 [==============================] - 4s 16ms/step - loss: 0.0730 - val_loss: 0.0726\n",
            "Epoch 34/50\n",
            "235/235 [==============================] - 3s 11ms/step - loss: 0.0730 - val_loss: 0.0725\n",
            "Epoch 35/50\n",
            "235/235 [==============================] - 3s 11ms/step - loss: 0.0729 - val_loss: 0.0725\n",
            "Epoch 36/50\n",
            "235/235 [==============================] - 3s 12ms/step - loss: 0.0729 - val_loss: 0.0724\n",
            "Epoch 37/50\n",
            "235/235 [==============================] - 4s 18ms/step - loss: 0.0729 - val_loss: 0.0725\n",
            "Epoch 38/50\n",
            "235/235 [==============================] - 3s 14ms/step - loss: 0.0729 - val_loss: 0.0724\n",
            "Epoch 39/50\n",
            "235/235 [==============================] - 3s 11ms/step - loss: 0.0729 - val_loss: 0.0724\n",
            "Epoch 40/50\n",
            "235/235 [==============================] - 3s 12ms/step - loss: 0.0728 - val_loss: 0.0724\n",
            "Epoch 41/50\n",
            "235/235 [==============================] - 3s 11ms/step - loss: 0.0728 - val_loss: 0.0724\n",
            "Epoch 42/50\n",
            "235/235 [==============================] - 4s 16ms/step - loss: 0.0728 - val_loss: 0.0725\n",
            "Epoch 43/50\n",
            "235/235 [==============================] - 3s 11ms/step - loss: 0.0728 - val_loss: 0.0724\n",
            "Epoch 44/50\n",
            "235/235 [==============================] - 3s 12ms/step - loss: 0.0728 - val_loss: 0.0724\n",
            "Epoch 45/50\n",
            "235/235 [==============================] - 3s 12ms/step - loss: 0.0728 - val_loss: 0.0723\n",
            "Epoch 46/50\n",
            "235/235 [==============================] - 4s 17ms/step - loss: 0.0728 - val_loss: 0.0723\n",
            "Epoch 47/50\n",
            "235/235 [==============================] - 3s 12ms/step - loss: 0.0728 - val_loss: 0.0723\n",
            "Epoch 48/50\n",
            "235/235 [==============================] - 3s 11ms/step - loss: 0.0727 - val_loss: 0.0723\n",
            "Epoch 49/50\n",
            "235/235 [==============================] - 3s 11ms/step - loss: 0.0727 - val_loss: 0.0723\n",
            "Epoch 50/50\n",
            "235/235 [==============================] - 3s 13ms/step - loss: 0.0727 - val_loss: 0.0723\n"
          ]
        },
        {
          "output_type": "execute_result",
          "data": {
            "text/plain": [
              "<keras.src.callbacks.History at 0x7f782bedec50>"
            ]
          },
          "metadata": {},
          "execution_count": 15
        }
      ]
    },
    {
      "cell_type": "code",
      "source": [
        "encoded_imgs = encoder.predict(x_test)\n",
        "decoded_imgs = decoder.predict(encoded_imgs)"
      ],
      "metadata": {
        "colab": {
          "base_uri": "https://localhost:8080/"
        },
        "id": "urOEqRD6zLtd",
        "outputId": "e60c20c9-c345-4a9d-da2c-9a26047ae46a"
      },
      "execution_count": null,
      "outputs": [
        {
          "output_type": "stream",
          "name": "stdout",
          "text": [
            "313/313 [==============================] - 1s 2ms/step\n",
            "313/313 [==============================] - 1s 2ms/step\n"
          ]
        }
      ]
    },
    {
      "cell_type": "code",
      "source": [
        "n = 10\n",
        "plt.figure(figsize=(20, 4))\n",
        "for i in range(n):\n",
        "    ax = plt.subplot(2, n, i + 1)\n",
        "    plt.imshow(x_test[i].reshape(28, 28))\n",
        "    plt.gray()\n",
        "    ax.get_xaxis().set_visible(False)\n",
        "    ax.get_yaxis().set_visible(False)\n",
        "    ax.set_title(f\"Original Image {i + 1}\")\n",
        "\n",
        "    ax = plt.subplot(2, n, i + 1 + n)\n",
        "    plt.imshow(decoded_imgs[i].reshape(28, 28))\n",
        "    plt.gray()\n",
        "    ax.get_xaxis().set_visible(False)\n",
        "    ax.get_yaxis().set_visible(False)\n",
        "    ax.set_title(f\"Decoded Image {i + 1}\")\n",
        "\n",
        "plt.show()"
      ],
      "metadata": {
        "colab": {
          "base_uri": "https://localhost:8080/",
          "height": 320
        },
        "id": "D7b6p6YPzVnI",
        "outputId": "2bfc1c77-8214-4240-a307-86949c8c66f6"
      },
      "execution_count": null,
      "outputs": [
        {
          "output_type": "display_data",
          "data": {
            "text/plain": [
              "<Figure size 2000x400 with 20 Axes>"
            ],
            "image/png": "[encoded data removed]"
          },
          "metadata": {}
        }
      ]
    },
    {
      "cell_type": "code",
      "source": [],
      "metadata": {
        "id": "kxrc_90DzVhj"
      },
      "execution_count": null,
      "outputs": []
    }
  ]
}